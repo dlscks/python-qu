{
  "cells": [
    {
      "cell_type": "markdown",
      "metadata": {
        "id": "view-in-github",
        "colab_type": "text"
      },
      "source": [
        "<a href=\"https://colab.research.google.com/github/dlscks/python-qu/blob/main/02_%EC%A0%9C%EC%96%B4%EB%AC%B8_%EB%AC%B8%EC%A0%9C.ipynb\" target=\"_parent\"><img src=\"https://colab.research.google.com/assets/colab-badge.svg\" alt=\"Open In Colab\"/></a>"
      ]
    },
    {
      "cell_type": "markdown",
      "id": "a614d117",
      "metadata": {
        "id": "a614d117"
      },
      "source": [
        " [문제1]  \n",
        " if~else문을 이용해서 년도에 해당하는 띠를 구하는 프로그램을 구현하시오.  \n",
        " 단, 년도은 input()으로 입력받음. \n",
        " \n",
        "   1. 12가지 띠  \n",
        "      원숭이, 닭, 개, 돼지, 쥐, 소, 호랑이, 토끼, 용, 뱀, 말, 양  \n",
        "   \n",
        "   2. 띠구하는 공식  \n",
        "     year%12의 결과가  \n",
        "     0이면 \"원숭이\", 1이면 \"닭\"  2이면 \"개\",    3이면 \"돼지\",  \n",
        "     4이면 \"쥐\",    5이면 \"소\", 6이면 \"호랑이\", 7이면 \"토끼\",  \n",
        "     8이면 \"용\",    9이면 \"뱀\", 10이면 \"말\",   11이면 \"양\"  \n",
        "     \n",
        "   3. 출력결과  \n",
        "     2012년도의 태생은  용띠입니다.  "
      ]
    },
    {
      "cell_type": "code",
      "execution_count": 2,
      "id": "dbfc1ab1",
      "metadata": {
        "colab": {
          "base_uri": "https://localhost:8080/"
        },
        "id": "dbfc1ab1",
        "outputId": "b067970f-bd23-44b8-8691-a36d1a033536"
      },
      "outputs": [
        {
          "output_type": "stream",
          "name": "stdout",
          "text": [
            "년도입력:2013\n",
            "2013년도의 태생은 뱀입니다.\n"
          ]
        }
      ],
      "source": [
        "year=int(input('년도입력:'))\n",
        "res = year%12\n",
        "if res==0:\n",
        "    animal='원숭이'\n",
        "elif res==1:\n",
        "    animal='닭'\n",
        "elif res== 2: \n",
        "    animal='개'\n",
        "elif res==3:\n",
        "    animal='돼지'\n",
        "elif res==4: \n",
        "    animal='쥐'\n",
        "elif res==5:\n",
        "    animal='소'\n",
        "elif res== 6: \n",
        "    animal='호랑이'\n",
        "elif res==7:\n",
        "    animal='토끼'\n",
        "elif res==8: \n",
        "    animal='용'\n",
        "elif res==9:\n",
        "    animal='뱀'\n",
        "elif res==10: \n",
        "    animal='말'\n",
        "else:\n",
        "    animal='양'\n",
        "    \n",
        "print('{}년도의 태생은 {}입니다.'.format(year, animal))"
      ]
    },
    {
      "cell_type": "markdown",
      "id": "37dec069",
      "metadata": {
        "id": "37dec069"
      },
      "source": [
        "[문제2]   \n",
        "for문을 이용해서  1부터 10까지 합계 구하기 "
      ]
    },
    {
      "cell_type": "code",
      "execution_count": 3,
      "id": "3dfbaa06",
      "metadata": {
        "colab": {
          "base_uri": "https://localhost:8080/"
        },
        "id": "3dfbaa06",
        "outputId": "af536d85-8ed1-495a-c06d-07d6cc7f7d58"
      },
      "outputs": [
        {
          "output_type": "stream",
          "name": "stdout",
          "text": [
            "55\n"
          ]
        }
      ],
      "source": [
        "temp = 0\n",
        "for i in range(1, 11):  \n",
        "    temp += i  # temp = temp + i\n",
        "print(temp)"
      ]
    },
    {
      "cell_type": "markdown",
      "id": "21cc51bf",
      "metadata": {
        "id": "21cc51bf"
      },
      "source": [
        "[문제3]  \n",
        "for문을 이용해서 1부터 10까지  홀수, 짝수 합계 구하기"
      ]
    },
    {
      "cell_type": "code",
      "execution_count": 4,
      "id": "67fd1d54",
      "metadata": {
        "colab": {
          "base_uri": "https://localhost:8080/"
        },
        "id": "67fd1d54",
        "outputId": "02feeab7-a119-4f98-e2e7-aac2b22f2e68"
      },
      "outputs": [
        {
          "output_type": "stream",
          "name": "stdout",
          "text": [
            "홀수 합계: 25\n",
            "짝수 합계: 30\n"
          ]
        }
      ],
      "source": [
        "odd = 0  # 홀수\n",
        "even = 0 # 짝수\n",
        "for i in range(1, 11):   # i=10\n",
        "    if i%2 == 0:\n",
        "        even += i # even=30\n",
        "    else:\n",
        "        odd += i  # odd=25\n",
        "print('홀수 합계:', odd)\n",
        "print('짝수 합계:', even)"
      ]
    },
    {
      "cell_type": "markdown",
      "id": "37780725",
      "metadata": {
        "id": "37780725"
      },
      "source": [
        "[문제4]  \n",
        "A 학급에 총 10명의 학생이 있다. 이 학생들의 중간고사 점수는 다음과 같다.  \n",
        "\n",
        "[70, 60, 55, 75, 95, 90, 80, 80, 85, 100]  \n",
        "\n",
        "for문을 사용하여 A 학급의 평균 점수를 구해 보자.  "
      ]
    },
    {
      "cell_type": "code",
      "execution_count": null,
      "id": "0bc78b76",
      "metadata": {
        "id": "0bc78b76"
      },
      "outputs": [],
      "source": []
    },
    {
      "cell_type": "markdown",
      "id": "08799d8e",
      "metadata": {
        "id": "08799d8e"
      },
      "source": [
        "[문제5] \n",
        "중첩if를 이용하여 프로그램을 작성하시오.  \n",
        "3과목의 점수를 입력받아서 \"합격\" 또는 \"불합력\"을  출력하시오.  \n",
        "3개의 과목이 전부 40이상이어야 하고 평균이 60이어야 \"합격\" 출력  \n",
        "평균이 60이 넘지만 1개의 과목이라도 40 미만이면 \"과락으로 불합격\" 출력  \n",
        "평균이 60미만이면 \"불합격\" 출력 \n",
        "\n",
        "[실행결과1]  \n",
        "국어점수입력 : 75  \n",
        "영어점수입력 : 80  \n",
        "수학점수입력 : 100  \n",
        " 합격을 축하합니다.  \n",
        "\n",
        "\n",
        "[실행결과2]\n",
        "국어점수입력 : 95  \n",
        "영어점수입력 : 80  \n",
        "수학점수입력 : 38  \n",
        "과락으로 불합격입니다.  \n",
        "  \n",
        "[실행결과3]  \n",
        "국어점수입력 : 32  \n",
        "영어점수입력 : 40  \n",
        "수학점수입력 : 22  \n",
        "불합격입니다.  "
      ]
    },
    {
      "cell_type": "code",
      "execution_count": null,
      "id": "743b368a",
      "metadata": {
        "id": "743b368a"
      },
      "outputs": [],
      "source": []
    }
  ],
  "metadata": {
    "kernelspec": {
      "display_name": "Python 3",
      "language": "python",
      "name": "python3"
    },
    "language_info": {
      "codemirror_mode": {
        "name": "ipython",
        "version": 3
      },
      "file_extension": ".py",
      "mimetype": "text/x-python",
      "name": "python",
      "nbconvert_exporter": "python",
      "pygments_lexer": "ipython3",
      "version": "3.8.8"
    },
    "colab": {
      "provenance": [],
      "include_colab_link": true
    }
  },
  "nbformat": 4,
  "nbformat_minor": 5
}